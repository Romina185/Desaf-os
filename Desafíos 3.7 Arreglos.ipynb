{
  "cells": [
    {
      "cell_type": "markdown",
      "metadata": {},
      "source": [
        " Desafío 2: Ordenar el inventario de libros\n",
        "\n",
        "Como encargado de la biblioteca, necesitas organizar los libros de acuerdo con sus códigos de identificación en orden decreciente, sin modificar la lista original. Se recomienda usar la función sorted(). ¿Por qué es importante no modificar la lista original? ¿Por qué no puedo usar el método sort sobre la lista original?"
      ]
    },
    {
      "cell_type": "markdown",
      "metadata": {},
      "source": [
        "¿Por qué es importante no modificar la lista original? Porque se evitan errores, mejora la legibilidad. Permite la utilización del mismo código todo el recorrido. \n",
        "¿Por qué no puedo usar el método sort sobre la lista original? Este método (sort) ordena la lista pero modificando la original. Al usar (sorted) se elabora  una nueva ordenada sin alteraciones."
      ]
    },
    {
      "cell_type": "code",
      "execution_count": 16,
      "metadata": {},
      "outputs": [
        {
          "name": "stdout",
          "output_type": "stream",
          "text": [
            "Códigos originales [235, 105, 415, 325, 128, 312, 298]\n",
            "Códigos ordenados [415, 325, 312, 298, 235, 128, 105]\n"
          ]
        }
      ],
      "source": [
        "#Organizar los libros a partir de los códigos de identificación.\n",
        "#Realizar la lista de códigos enumerados\n",
        "codigos_originales=[235,105, 415, 325, 128, 312, 298]\n",
        "#Solicitar ordenarlos de forma decreciente.\n",
        "#Usar sorted para no modificar la original.\n",
        "codigos_ordenados = sorted(codigos_originales, reverse=True)\n",
        "#Imprimir los resultados\n",
        "print(\"Códigos originales\", codigos_originales)\n",
        "print(\"Códigos ordenados\", codigos_ordenados)\n"
      ]
    },
    {
      "cell_type": "code",
      "execution_count": 13,
      "metadata": {},
      "outputs": [
        {
          "name": "stdout",
          "output_type": "stream",
          "text": [
            "El promedio de la clase es 8.0\n"
          ]
        }
      ],
      "source": [
        "#Calcular el promedio de las notas de la clase.\n",
        "#Realizar una lista de las calificaciones.\n",
        "notas= [7,6,9,7,8,9,8,10,8,6,10]\n",
        "#Realizar los cálculos, sumando las calificaciones y dividiendo entre la cantidad de estudiantes.\n",
        "promedio= sum(notas) / len (notas)\n",
        "#Imprimir el promedio con el resultado oobtenido.\n",
        "print(\"El promedio de la clase es\", promedio)"
      ]
    },
    {
      "cell_type": "markdown",
      "metadata": {},
      "source": [
        "Pregunta 1: Calcula el promedio de las notas de la clase. ¿Cómo lo harías? Primero realicé la lista de notas, definida por el uso de corchetes [], para calcular el promedio utilicé la suma (sum) para que se agrupe  todas las calificaciones y luego la división entre las cantidades. Al imprimir el promedio se obtuvo que el mismo es de 8."
      ]
    },
    {
      "cell_type": "code",
      "execution_count": 14,
      "metadata": {},
      "outputs": [
        {
          "name": "stdout",
          "output_type": "stream",
          "text": [
            "la nota más baja 6\n",
            "la nota más alta 10\n"
          ]
        }
      ],
      "source": [
        "#Encuentra la nota más baja  y más alta, ¿cómo lo harías?\n",
        "#Realizar la lista de las notas []\n",
        "notas=[7,6,9,7,8,9,8,10,6,10]\n",
        "#Encontrar la nota mínima\n",
        "nota_mínima=min(notas)\n",
        "#Encontrar la nota máxima\n",
        "nota_máxima=max(notas)\n",
        "#Imprimir los resultados\n",
        "print(\"la nota más baja\", nota_mínima)\n",
        "print(\"la nota más alta\", nota_máxima)\n"
      ]
    }
  ],
  "metadata": {
    "colab": {
      "include_colab_link": true,
      "provenance": [],
      "toc_visible": true
    },
    "kernelspec": {
      "display_name": "Python 3",
      "name": "python3"
    },
    "language_info": {
      "codemirror_mode": {
        "name": "ipython",
        "version": 3
      },
      "file_extension": ".py",
      "mimetype": "text/x-python",
      "name": "python",
      "nbconvert_exporter": "python",
      "pygments_lexer": "ipython3",
      "version": "3.13.2"
    }
  },
  "nbformat": 4,
  "nbformat_minor": 0
}
